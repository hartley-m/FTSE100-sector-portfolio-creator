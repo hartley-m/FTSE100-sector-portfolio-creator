{
 "cells": [
  {
   "cell_type": "code",
   "execution_count": 1,
   "metadata": {},
   "outputs": [],
   "source": [
    "# This is an example of the Banks portfolio, a program has been made for each FTSE100 sector portfolio.\n",
    "# Imports modules into the program to be used"
   ]
  },
  {
   "cell_type": "code",
   "execution_count": 2,
   "metadata": {},
   "outputs": [],
   "source": [
    "import numpy as np\n",
    "import pandas as pd\n",
    "from pandas_datareader import data as wb\n",
    "from pandas import DataFrame\n",
    "import matplotlib.pyplot as plot\n",
    "from statsmodels.tsa.stattools import adfuller\n",
    "from statsmodels.tsa.vector_ar import vecm\n",
    "from statsmodels.stats.diagnostic import het_arch\n",
    "from statsmodels.compat import lzip\n",
    "import statsmodels.api as sm"
   ]
  },
  {
   "cell_type": "code",
   "execution_count": 3,
   "metadata": {},
   "outputs": [],
   "source": [
    "# Pulls the data from Yahoo Finance using the share ticker (e.g. 'BARC.L' = Barclays) for time periods 23/06/2016 to 01-11-2019"
   ]
  },
  {
   "cell_type": "code",
   "execution_count": 4,
   "metadata": {},
   "outputs": [],
   "source": [
    "tickers = ['BARC.L', 'HSBA.L', 'LLOY.L', 'RBS.L', 'STAN.L']\n",
    "mydata = pd.DataFrame()\n",
    "for t in tickers:\n",
    "    mydata[t] = wb.DataReader(t, data_source='yahoo', start='2016-6-23', end='2019-11-01')['Adj Close']"
   ]
  },
  {
   "cell_type": "code",
   "execution_count": 5,
   "metadata": {},
   "outputs": [],
   "source": [
    "#Reads out the data to check for missing values and abnormalities"
   ]
  },
  {
   "cell_type": "code",
   "execution_count": 6,
   "metadata": {},
   "outputs": [
    {
     "name": "stdout",
     "output_type": "stream",
     "text": [
      "<class 'pandas.core.frame.DataFrame'>\n",
      "DatetimeIndex: 852 entries, 2016-06-23 to 2019-11-01\n",
      "Data columns (total 5 columns):\n",
      "BARC.L    852 non-null float64\n",
      "HSBA.L    852 non-null float64\n",
      "LLOY.L    852 non-null float64\n",
      "RBS.L     852 non-null float64\n",
      "STAN.L    852 non-null float64\n",
      "dtypes: float64(5)\n",
      "memory usage: 39.9 KB\n"
     ]
    }
   ],
   "source": [
    "mydata.info()"
   ]
  },
  {
   "cell_type": "code",
   "execution_count": 7,
   "metadata": {},
   "outputs": [
    {
     "data": {
      "text/html": [
       "<div>\n",
       "<style scoped>\n",
       "    .dataframe tbody tr th:only-of-type {\n",
       "        vertical-align: middle;\n",
       "    }\n",
       "\n",
       "    .dataframe tbody tr th {\n",
       "        vertical-align: top;\n",
       "    }\n",
       "\n",
       "    .dataframe thead th {\n",
       "        text-align: right;\n",
       "    }\n",
       "</style>\n",
       "<table border=\"1\" class=\"dataframe\">\n",
       "  <thead>\n",
       "    <tr style=\"text-align: right;\">\n",
       "      <th></th>\n",
       "      <th>BARC.L</th>\n",
       "      <th>HSBA.L</th>\n",
       "      <th>LLOY.L</th>\n",
       "      <th>RBS.L</th>\n",
       "      <th>STAN.L</th>\n",
       "    </tr>\n",
       "    <tr>\n",
       "      <th>Date</th>\n",
       "      <th></th>\n",
       "      <th></th>\n",
       "      <th></th>\n",
       "      <th></th>\n",
       "      <th></th>\n",
       "    </tr>\n",
       "  </thead>\n",
       "  <tbody>\n",
       "    <tr>\n",
       "      <th>2016-06-23</th>\n",
       "      <td>165.209885</td>\n",
       "      <td>357.934967</td>\n",
       "      <td>56.745163</td>\n",
       "      <td>233.842804</td>\n",
       "      <td>529.221497</td>\n",
       "    </tr>\n",
       "    <tr>\n",
       "      <th>2016-06-24</th>\n",
       "      <td>136.003204</td>\n",
       "      <td>352.815399</td>\n",
       "      <td>44.829857</td>\n",
       "      <td>191.648422</td>\n",
       "      <td>515.583618</td>\n",
       "    </tr>\n",
       "    <tr>\n",
       "      <th>2016-06-27</th>\n",
       "      <td>112.408127</td>\n",
       "      <td>344.978516</td>\n",
       "      <td>40.228905</td>\n",
       "      <td>162.709778</td>\n",
       "      <td>483.273773</td>\n",
       "    </tr>\n",
       "    <tr>\n",
       "      <th>2016-06-28</th>\n",
       "      <td>116.208084</td>\n",
       "      <td>349.389282</td>\n",
       "      <td>43.217556</td>\n",
       "      <td>162.243027</td>\n",
       "      <td>493.342010</td>\n",
       "    </tr>\n",
       "    <tr>\n",
       "      <th>2016-06-29</th>\n",
       "      <td>121.908020</td>\n",
       "      <td>356.595978</td>\n",
       "      <td>43.665859</td>\n",
       "      <td>168.217438</td>\n",
       "      <td>510.091797</td>\n",
       "    </tr>\n",
       "  </tbody>\n",
       "</table>\n",
       "</div>"
      ],
      "text/plain": [
       "                BARC.L      HSBA.L     LLOY.L       RBS.L      STAN.L\n",
       "Date                                                                 \n",
       "2016-06-23  165.209885  357.934967  56.745163  233.842804  529.221497\n",
       "2016-06-24  136.003204  352.815399  44.829857  191.648422  515.583618\n",
       "2016-06-27  112.408127  344.978516  40.228905  162.709778  483.273773\n",
       "2016-06-28  116.208084  349.389282  43.217556  162.243027  493.342010\n",
       "2016-06-29  121.908020  356.595978  43.665859  168.217438  510.091797"
      ]
     },
     "execution_count": 7,
     "metadata": {},
     "output_type": "execute_result"
    }
   ],
   "source": [
    "mydata.head()"
   ]
  },
  {
   "cell_type": "code",
   "execution_count": 8,
   "metadata": {},
   "outputs": [
    {
     "data": {
      "text/html": [
       "<div>\n",
       "<style scoped>\n",
       "    .dataframe tbody tr th:only-of-type {\n",
       "        vertical-align: middle;\n",
       "    }\n",
       "\n",
       "    .dataframe tbody tr th {\n",
       "        vertical-align: top;\n",
       "    }\n",
       "\n",
       "    .dataframe thead th {\n",
       "        text-align: right;\n",
       "    }\n",
       "</style>\n",
       "<table border=\"1\" class=\"dataframe\">\n",
       "  <thead>\n",
       "    <tr style=\"text-align: right;\">\n",
       "      <th></th>\n",
       "      <th>BARC.L</th>\n",
       "      <th>HSBA.L</th>\n",
       "      <th>LLOY.L</th>\n",
       "      <th>RBS.L</th>\n",
       "      <th>STAN.L</th>\n",
       "    </tr>\n",
       "    <tr>\n",
       "      <th>Date</th>\n",
       "      <th></th>\n",
       "      <th></th>\n",
       "      <th></th>\n",
       "      <th></th>\n",
       "      <th></th>\n",
       "    </tr>\n",
       "  </thead>\n",
       "  <tbody>\n",
       "    <tr>\n",
       "      <th>2019-10-28</th>\n",
       "      <td>164.335114</td>\n",
       "      <td>571.909180</td>\n",
       "      <td>54.472363</td>\n",
       "      <td>215.424500</td>\n",
       "      <td>667.407776</td>\n",
       "    </tr>\n",
       "    <tr>\n",
       "      <th>2019-10-29</th>\n",
       "      <td>165.511002</td>\n",
       "      <td>565.751343</td>\n",
       "      <td>53.853039</td>\n",
       "      <td>211.185364</td>\n",
       "      <td>670.107483</td>\n",
       "    </tr>\n",
       "    <tr>\n",
       "      <th>2019-10-30</th>\n",
       "      <td>162.330322</td>\n",
       "      <td>565.751343</td>\n",
       "      <td>53.242966</td>\n",
       "      <td>205.886459</td>\n",
       "      <td>687.269897</td>\n",
       "    </tr>\n",
       "    <tr>\n",
       "      <th>2019-10-31</th>\n",
       "      <td>161.732742</td>\n",
       "      <td>560.940552</td>\n",
       "      <td>52.503479</td>\n",
       "      <td>204.923019</td>\n",
       "      <td>675.892578</td>\n",
       "    </tr>\n",
       "    <tr>\n",
       "      <th>2019-11-01</th>\n",
       "      <td>161.135147</td>\n",
       "      <td>566.521057</td>\n",
       "      <td>52.974903</td>\n",
       "      <td>206.849899</td>\n",
       "      <td>680.713501</td>\n",
       "    </tr>\n",
       "  </tbody>\n",
       "</table>\n",
       "</div>"
      ],
      "text/plain": [
       "                BARC.L      HSBA.L     LLOY.L       RBS.L      STAN.L\n",
       "Date                                                                 \n",
       "2019-10-28  164.335114  571.909180  54.472363  215.424500  667.407776\n",
       "2019-10-29  165.511002  565.751343  53.853039  211.185364  670.107483\n",
       "2019-10-30  162.330322  565.751343  53.242966  205.886459  687.269897\n",
       "2019-10-31  161.732742  560.940552  52.503479  204.923019  675.892578\n",
       "2019-11-01  161.135147  566.521057  52.974903  206.849899  680.713501"
      ]
     },
     "execution_count": 8,
     "metadata": {},
     "output_type": "execute_result"
    }
   ],
   "source": [
    "mydata.tail()"
   ]
  },
  {
   "cell_type": "code",
   "execution_count": 9,
   "metadata": {},
   "outputs": [],
   "source": [
    "# Visual representation of data to check for abnormalities and missing data"
   ]
  },
  {
   "cell_type": "code",
   "execution_count": 10,
   "metadata": {
    "scrolled": true
   },
   "outputs": [
    {
     "data": {
      "text/plain": [
       "<matplotlib.axes._subplots.AxesSubplot at 0x295676f02e8>"
      ]
     },
     "execution_count": 10,
     "metadata": {},
     "output_type": "execute_result"
    },
    {
     "data": {
      "image/png": "[encoded data removed]",
      "text/plain": [
       "<Figure size 288x288 with 1 Axes>"
      ]
     },
     "metadata": {
      "needs_background": "light"
     },
     "output_type": "display_data"
    }
   ],
   "source": [
    "(mydata / mydata.iloc[0] * 100).plot(figsize =(4, 4))"
   ]
  },
  {
   "cell_type": "code",
   "execution_count": 11,
   "metadata": {},
   "outputs": [],
   "source": [
    "# Converts data to natural logarithms"
   ]
  },
  {
   "cell_type": "code",
   "execution_count": 12,
   "metadata": {},
   "outputs": [],
   "source": [
    "logmydata = np.log(mydata)"
   ]
  },
  {
   "cell_type": "code",
   "execution_count": 13,
   "metadata": {},
   "outputs": [],
   "source": [
    "# Visual representation of log data to check for abnormalities"
   ]
  },
  {
   "cell_type": "code",
   "execution_count": 14,
   "metadata": {},
   "outputs": [
    {
     "data": {
      "text/plain": [
       "<matplotlib.axes._subplots.AxesSubplot at 0x2956743d780>"
      ]
     },
     "execution_count": 14,
     "metadata": {},
     "output_type": "execute_result"
    },
    {
     "data": {
      "image/png": "[encoded data removed]",
      "text/plain": [
       "<Figure size 288x288 with 1 Axes>"
      ]
     },
     "metadata": {
      "needs_background": "light"
     },
     "output_type": "display_data"
    }
   ],
   "source": [
    "logmydata.plot(figsize =(4, 4))"
   ]
  },
  {
   "cell_type": "code",
   "execution_count": 15,
   "metadata": {},
   "outputs": [],
   "source": [
    "# Calculate log returns and check the populated table"
   ]
  },
  {
   "cell_type": "code",
   "execution_count": 16,
   "metadata": {},
   "outputs": [],
   "source": [
    "logreturns = (logmydata/logmydata.shift(1)) - 1"
   ]
  },
  {
   "cell_type": "code",
   "execution_count": 17,
   "metadata": {},
   "outputs": [
    {
     "data": {
      "text/html": [
       "<div>\n",
       "<style scoped>\n",
       "    .dataframe tbody tr th:only-of-type {\n",
       "        vertical-align: middle;\n",
       "    }\n",
       "\n",
       "    .dataframe tbody tr th {\n",
       "        vertical-align: top;\n",
       "    }\n",
       "\n",
       "    .dataframe thead th {\n",
       "        text-align: right;\n",
       "    }\n",
       "</style>\n",
       "<table border=\"1\" class=\"dataframe\">\n",
       "  <thead>\n",
       "    <tr style=\"text-align: right;\">\n",
       "      <th></th>\n",
       "      <th>BARC.L</th>\n",
       "      <th>HSBA.L</th>\n",
       "      <th>LLOY.L</th>\n",
       "      <th>RBS.L</th>\n",
       "      <th>STAN.L</th>\n",
       "    </tr>\n",
       "    <tr>\n",
       "      <th>Date</th>\n",
       "      <th></th>\n",
       "      <th></th>\n",
       "      <th></th>\n",
       "      <th></th>\n",
       "      <th></th>\n",
       "    </tr>\n",
       "  </thead>\n",
       "  <tbody>\n",
       "    <tr>\n",
       "      <th>2016-06-23</th>\n",
       "      <td>NaN</td>\n",
       "      <td>NaN</td>\n",
       "      <td>NaN</td>\n",
       "      <td>NaN</td>\n",
       "      <td>NaN</td>\n",
       "    </tr>\n",
       "    <tr>\n",
       "      <th>2016-06-24</th>\n",
       "      <td>-0.038091</td>\n",
       "      <td>-0.002450</td>\n",
       "      <td>-0.058361</td>\n",
       "      <td>-0.036480</td>\n",
       "      <td>-0.004163</td>\n",
       "    </tr>\n",
       "    <tr>\n",
       "      <th>2016-06-27</th>\n",
       "      <td>-0.038786</td>\n",
       "      <td>-0.003829</td>\n",
       "      <td>-0.028475</td>\n",
       "      <td>-0.031146</td>\n",
       "      <td>-0.010362</td>\n",
       "    </tr>\n",
       "    <tr>\n",
       "      <th>2016-06-28</th>\n",
       "      <td>0.007040</td>\n",
       "      <td>0.002174</td>\n",
       "      <td>0.019396</td>\n",
       "      <td>-0.000564</td>\n",
       "      <td>0.003336</td>\n",
       "    </tr>\n",
       "    <tr>\n",
       "      <th>2016-06-29</th>\n",
       "      <td>0.010070</td>\n",
       "      <td>0.003486</td>\n",
       "      <td>0.002740</td>\n",
       "      <td>0.007106</td>\n",
       "      <td>0.005384</td>\n",
       "    </tr>\n",
       "  </tbody>\n",
       "</table>\n",
       "</div>"
      ],
      "text/plain": [
       "              BARC.L    HSBA.L    LLOY.L     RBS.L    STAN.L\n",
       "Date                                                        \n",
       "2016-06-23       NaN       NaN       NaN       NaN       NaN\n",
       "2016-06-24 -0.038091 -0.002450 -0.058361 -0.036480 -0.004163\n",
       "2016-06-27 -0.038786 -0.003829 -0.028475 -0.031146 -0.010362\n",
       "2016-06-28  0.007040  0.002174  0.019396 -0.000564  0.003336\n",
       "2016-06-29  0.010070  0.003486  0.002740  0.007106  0.005384"
      ]
     },
     "execution_count": 17,
     "metadata": {},
     "output_type": "execute_result"
    }
   ],
   "source": [
    "logreturns.head()"
   ]
  },
  {
   "cell_type": "code",
   "execution_count": 18,
   "metadata": {},
   "outputs": [
    {
     "data": {
      "text/html": [
       "<div>\n",
       "<style scoped>\n",
       "    .dataframe tbody tr th:only-of-type {\n",
       "        vertical-align: middle;\n",
       "    }\n",
       "\n",
       "    .dataframe tbody tr th {\n",
       "        vertical-align: top;\n",
       "    }\n",
       "\n",
       "    .dataframe thead th {\n",
       "        text-align: right;\n",
       "    }\n",
       "</style>\n",
       "<table border=\"1\" class=\"dataframe\">\n",
       "  <thead>\n",
       "    <tr style=\"text-align: right;\">\n",
       "      <th></th>\n",
       "      <th>BARC.L</th>\n",
       "      <th>HSBA.L</th>\n",
       "      <th>LLOY.L</th>\n",
       "      <th>RBS.L</th>\n",
       "      <th>STAN.L</th>\n",
       "    </tr>\n",
       "    <tr>\n",
       "      <th>Date</th>\n",
       "      <th></th>\n",
       "      <th></th>\n",
       "      <th></th>\n",
       "      <th></th>\n",
       "      <th></th>\n",
       "    </tr>\n",
       "  </thead>\n",
       "  <tbody>\n",
       "    <tr>\n",
       "      <th>2019-10-28</th>\n",
       "      <td>0.000161</td>\n",
       "      <td>-0.005944</td>\n",
       "      <td>-0.004481</td>\n",
       "      <td>-0.001819</td>\n",
       "      <td>0.000044</td>\n",
       "    </tr>\n",
       "    <tr>\n",
       "      <th>2019-10-29</th>\n",
       "      <td>0.001398</td>\n",
       "      <td>-0.001705</td>\n",
       "      <td>-0.002860</td>\n",
       "      <td>-0.003699</td>\n",
       "      <td>0.000621</td>\n",
       "    </tr>\n",
       "    <tr>\n",
       "      <th>2019-10-30</th>\n",
       "      <td>-0.003798</td>\n",
       "      <td>0.000000</td>\n",
       "      <td>-0.002858</td>\n",
       "      <td>-0.004747</td>\n",
       "      <td>0.003886</td>\n",
       "    </tr>\n",
       "    <tr>\n",
       "      <th>2019-10-31</th>\n",
       "      <td>-0.000725</td>\n",
       "      <td>-0.001347</td>\n",
       "      <td>-0.003519</td>\n",
       "      <td>-0.000880</td>\n",
       "      <td>-0.002555</td>\n",
       "    </tr>\n",
       "    <tr>\n",
       "      <th>2019-11-01</th>\n",
       "      <td>-0.000728</td>\n",
       "      <td>0.001564</td>\n",
       "      <td>0.002257</td>\n",
       "      <td>0.001758</td>\n",
       "      <td>0.001091</td>\n",
       "    </tr>\n",
       "  </tbody>\n",
       "</table>\n",
       "</div>"
      ],
      "text/plain": [
       "              BARC.L    HSBA.L    LLOY.L     RBS.L    STAN.L\n",
       "Date                                                        \n",
       "2019-10-28  0.000161 -0.005944 -0.004481 -0.001819  0.000044\n",
       "2019-10-29  0.001398 -0.001705 -0.002860 -0.003699  0.000621\n",
       "2019-10-30 -0.003798  0.000000 -0.002858 -0.004747  0.003886\n",
       "2019-10-31 -0.000725 -0.001347 -0.003519 -0.000880 -0.002555\n",
       "2019-11-01 -0.000728  0.001564  0.002257  0.001758  0.001091"
      ]
     },
     "execution_count": 18,
     "metadata": {},
     "output_type": "execute_result"
    }
   ],
   "source": [
    "logreturns.tail()"
   ]
  },
  {
   "cell_type": "code",
   "execution_count": 19,
   "metadata": {},
   "outputs": [],
   "source": [
    "# 'fillna(0)' corrects an error where 0 values are represent as null\n",
    "# This prevents errrors occuring when performing the ADF tests"
   ]
  },
  {
   "cell_type": "code",
   "execution_count": 20,
   "metadata": {},
   "outputs": [],
   "source": [
    "returns = (mydata.fillna(0)/mydata.fillna(0).shift(1)) - 1"
   ]
  },
  {
   "cell_type": "code",
   "execution_count": 21,
   "metadata": {},
   "outputs": [
    {
     "data": {
      "text/html": [
       "<div>\n",
       "<style scoped>\n",
       "    .dataframe tbody tr th:only-of-type {\n",
       "        vertical-align: middle;\n",
       "    }\n",
       "\n",
       "    .dataframe tbody tr th {\n",
       "        vertical-align: top;\n",
       "    }\n",
       "\n",
       "    .dataframe thead th {\n",
       "        text-align: right;\n",
       "    }\n",
       "</style>\n",
       "<table border=\"1\" class=\"dataframe\">\n",
       "  <thead>\n",
       "    <tr style=\"text-align: right;\">\n",
       "      <th></th>\n",
       "      <th>BARC.L</th>\n",
       "      <th>HSBA.L</th>\n",
       "      <th>LLOY.L</th>\n",
       "      <th>RBS.L</th>\n",
       "      <th>STAN.L</th>\n",
       "    </tr>\n",
       "    <tr>\n",
       "      <th>Date</th>\n",
       "      <th></th>\n",
       "      <th></th>\n",
       "      <th></th>\n",
       "      <th></th>\n",
       "      <th></th>\n",
       "    </tr>\n",
       "  </thead>\n",
       "  <tbody>\n",
       "    <tr>\n",
       "      <th>2016-06-23</th>\n",
       "      <td>NaN</td>\n",
       "      <td>NaN</td>\n",
       "      <td>NaN</td>\n",
       "      <td>NaN</td>\n",
       "      <td>NaN</td>\n",
       "    </tr>\n",
       "    <tr>\n",
       "      <th>2016-06-24</th>\n",
       "      <td>-0.176785</td>\n",
       "      <td>-0.014303</td>\n",
       "      <td>-0.209979</td>\n",
       "      <td>-0.180439</td>\n",
       "      <td>-0.025770</td>\n",
       "    </tr>\n",
       "    <tr>\n",
       "      <th>2016-06-27</th>\n",
       "      <td>-0.173489</td>\n",
       "      <td>-0.022212</td>\n",
       "      <td>-0.102631</td>\n",
       "      <td>-0.150999</td>\n",
       "      <td>-0.062667</td>\n",
       "    </tr>\n",
       "    <tr>\n",
       "      <th>2016-06-28</th>\n",
       "      <td>0.033805</td>\n",
       "      <td>0.012786</td>\n",
       "      <td>0.074291</td>\n",
       "      <td>-0.002869</td>\n",
       "      <td>0.020833</td>\n",
       "    </tr>\n",
       "    <tr>\n",
       "      <th>2016-06-29</th>\n",
       "      <td>0.049049</td>\n",
       "      <td>0.020627</td>\n",
       "      <td>0.010373</td>\n",
       "      <td>0.036824</td>\n",
       "      <td>0.033952</td>\n",
       "    </tr>\n",
       "  </tbody>\n",
       "</table>\n",
       "</div>"
      ],
      "text/plain": [
       "              BARC.L    HSBA.L    LLOY.L     RBS.L    STAN.L\n",
       "Date                                                        \n",
       "2016-06-23       NaN       NaN       NaN       NaN       NaN\n",
       "2016-06-24 -0.176785 -0.014303 -0.209979 -0.180439 -0.025770\n",
       "2016-06-27 -0.173489 -0.022212 -0.102631 -0.150999 -0.062667\n",
       "2016-06-28  0.033805  0.012786  0.074291 -0.002869  0.020833\n",
       "2016-06-29  0.049049  0.020627  0.010373  0.036824  0.033952"
      ]
     },
     "execution_count": 21,
     "metadata": {},
     "output_type": "execute_result"
    }
   ],
   "source": [
    "returns.head()"
   ]
  },
  {
   "cell_type": "code",
   "execution_count": 22,
   "metadata": {},
   "outputs": [],
   "source": [
    "# Creates and equally weighted array table for the portolio"
   ]
  },
  {
   "cell_type": "code",
   "execution_count": 23,
   "metadata": {},
   "outputs": [],
   "source": [
    "weights = np.array([(1/5), (1/5), (1/5), (1/5), (1/5)])"
   ]
  },
  {
   "cell_type": "code",
   "execution_count": 24,
   "metadata": {},
   "outputs": [],
   "source": [
    "# X is the equaly weighted return of log price portfolio\n",
    "# Y is the equaly weighted return of log reutrn portfolio"
   ]
  },
  {
   "cell_type": "code",
   "execution_count": 25,
   "metadata": {},
   "outputs": [],
   "source": [
    "X = np.dot(logmydata, weights)"
   ]
  },
  {
   "cell_type": "code",
   "execution_count": 26,
   "metadata": {},
   "outputs": [],
   "source": [
    "# Augmented Dickey Fuller (ADF) test for log price\n",
    "# This checks that the data is stationary before conducting further econometric analysis"
   ]
  },
  {
   "cell_type": "code",
   "execution_count": 27,
   "metadata": {},
   "outputs": [
    {
     "name": "stdout",
     "output_type": "stream",
     "text": [
      "ADF Statistic: -2.125394\n",
      "p-value: 0.531850\n",
      "Critical Values:\n",
      "\t1%: -3.969448\n",
      "\t5%: -3.415662\n",
      "\t10%: -3.130094\n"
     ]
    }
   ],
   "source": [
    "result = adfuller(X, regression='ct')\n",
    "print('ADF Statistic: %f' % result[0])\n",
    "print('p-value: %f' % result[1])\n",
    "print('Critical Values:')\n",
    "for key, value in result[4].items():\n",
    "    print('\\t%s: %.6f' % (key, value))"
   ]
  },
  {
   "cell_type": "code",
   "execution_count": 28,
   "metadata": {},
   "outputs": [],
   "source": [
    "Y = np.dot(logreturns.iloc[1:], weights)"
   ]
  },
  {
   "cell_type": "code",
   "execution_count": 29,
   "metadata": {},
   "outputs": [],
   "source": [
    "# ADF test for log reuturns"
   ]
  },
  {
   "cell_type": "code",
   "execution_count": 30,
   "metadata": {},
   "outputs": [
    {
     "name": "stdout",
     "output_type": "stream",
     "text": [
      "ADF Statistic: -27.780821\n",
      "p-value: 0.000000\n",
      "Critical Values:\n",
      "\t1%: -2.568375\n",
      "\t5%: -1.941321\n",
      "\t10%: -1.616511\n"
     ]
    }
   ],
   "source": [
    "result2 = adfuller(Y, regression='nc')\n",
    "print('ADF Statistic: %f' % result2[0])\n",
    "print('p-value: %f' % result2[1])\n",
    "print('Critical Values:')\n",
    "for key, value in result2[4].items():\n",
    "    print('\\t%s: %.6f' % (key, value))"
   ]
  },
  {
   "cell_type": "code",
   "execution_count": 31,
   "metadata": {},
   "outputs": [],
   "source": [
    "# Visual representation of log returns portfolio to check for abnormatilities"
   ]
  },
  {
   "cell_type": "code",
   "execution_count": 32,
   "metadata": {},
   "outputs": [],
   "source": [
    "log_portfolio_returns = pd.DataFrame(np.dot(logreturns, weights))"
   ]
  },
  {
   "cell_type": "code",
   "execution_count": 33,
   "metadata": {
    "scrolled": true
   },
   "outputs": [
    {
     "data": {
      "image/png": "[encoded data removed]",
      "text/plain": [
       "<Figure size 288x288 with 1 Axes>"
      ]
     },
     "metadata": {
      "needs_background": "light"
     },
     "output_type": "display_data"
    }
   ],
   "source": [
    "log_portfolio_returns.plot(figsize =(4, 4))\n",
    "plot.title('Bank Portfolio')\n",
    "plot.xlabel('observation')\n",
    "plot.ylabel('log returns')\n",
    "plot.gca().get_legend().remove()"
   ]
  },
  {
   "cell_type": "code",
   "execution_count": 34,
   "metadata": {},
   "outputs": [],
   "source": [
    "# Creates a column for log retursn portfolio to be used in EViews"
   ]
  },
  {
   "cell_type": "code",
   "execution_count": 35,
   "metadata": {},
   "outputs": [
    {
     "data": {
      "text/html": [
       "<div>\n",
       "<style scoped>\n",
       "    .dataframe tbody tr th:only-of-type {\n",
       "        vertical-align: middle;\n",
       "    }\n",
       "\n",
       "    .dataframe tbody tr th {\n",
       "        vertical-align: top;\n",
       "    }\n",
       "\n",
       "    .dataframe thead th {\n",
       "        text-align: right;\n",
       "    }\n",
       "</style>\n",
       "<table border=\"1\" class=\"dataframe\">\n",
       "  <thead>\n",
       "    <tr style=\"text-align: right;\">\n",
       "      <th></th>\n",
       "      <th>B</th>\n",
       "    </tr>\n",
       "  </thead>\n",
       "  <tbody>\n",
       "    <tr>\n",
       "      <th>0</th>\n",
       "      <td>-0.027909</td>\n",
       "    </tr>\n",
       "    <tr>\n",
       "      <th>1</th>\n",
       "      <td>-0.022520</td>\n",
       "    </tr>\n",
       "    <tr>\n",
       "      <th>2</th>\n",
       "      <td>0.006277</td>\n",
       "    </tr>\n",
       "    <tr>\n",
       "      <th>3</th>\n",
       "      <td>0.005757</td>\n",
       "    </tr>\n",
       "    <tr>\n",
       "      <th>4</th>\n",
       "      <td>-0.001732</td>\n",
       "    </tr>\n",
       "  </tbody>\n",
       "</table>\n",
       "</div>"
      ],
      "text/plain": [
       "          B\n",
       "0 -0.027909\n",
       "1 -0.022520\n",
       "2  0.006277\n",
       "3  0.005757\n",
       "4 -0.001732"
      ]
     },
     "execution_count": 35,
     "metadata": {},
     "output_type": "execute_result"
    }
   ],
   "source": [
    "df = DataFrame(Y, columns= ['B'])\n",
    "\n",
    "df.head()"
   ]
  },
  {
   "cell_type": "code",
   "execution_count": 36,
   "metadata": {},
   "outputs": [],
   "source": [
    "# Exports data as a CSV file to be used in EViews"
   ]
  },
  {
   "cell_type": "code",
   "execution_count": 37,
   "metadata": {},
   "outputs": [],
   "source": [
    "#df.to_csv(r'C:\\Users\\XXXXXXX')"
   ]
  }
 ],
 "metadata": {
  "kernelspec": {
   "display_name": "Python 3",
   "language": "python",
   "name": "python3"
  },
  "language_info": {
   "codemirror_mode": {
    "name": "ipython",
    "version": 3
   },
   "file_extension": ".py",
   "mimetype": "text/x-python",
   "name": "python",
   "nbconvert_exporter": "python",
   "pygments_lexer": "ipython3",
   "version": "3.7.3"
  }
 },
 "nbformat": 4,
 "nbformat_minor": 2
}
